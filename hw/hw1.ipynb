{
 "cells": [
  {
   "cell_type": "markdown",
   "metadata": {},
   "source": [
    "# Hw1"
   ]
  },
  {
   "cell_type": "markdown",
   "metadata": {},
   "source": [
    "1.⁠Display Fibonacci Series upto 10 terms"
   ]
  },
  {
   "cell_type": "code",
   "execution_count": 1,
   "metadata": {},
   "outputs": [
    {
     "name": "stdout",
     "output_type": "stream",
     "text": [
      "0 1 1 2 3 5 8 13 21 34 "
     ]
    }
   ],
   "source": [
    "nterms = 10\n",
    "\n",
    "n1, n2 = 0, 1\n",
    "count = 0\n",
    "\n",
    "# Display Fibonacci series\n",
    "while count < nterms:\n",
    "    print(n1, end=\" \")\n",
    "    nth = n1 + n2\n",
    "    n1, n2 = n2, nth\n",
    "    count += 1\n"
   ]
  },
  {
   "cell_type": "markdown",
   "metadata": {},
   "source": [
    "2.⁠ ⁠Display numbers at the odd indices of a list\n"
   ]
  },
  {
   "cell_type": "code",
   "execution_count": 15,
   "metadata": {},
   "outputs": [
    {
     "name": "stdout",
     "output_type": "stream",
     "text": [
      "[2, 4, 6, 8]\n"
     ]
    }
   ],
   "source": [
    "list= [1,2,3,4,5,6,7,8,9]\n",
    "\n",
    "print(list[1::2])\n"
   ]
  },
  {
   "cell_type": "markdown",
   "metadata": {},
   "source": [
    "3. ⁠⁠string = \"\"\"\n",
    "\n",
    "I have provided this text to provide tips on creating interesting paragraphs.\n",
    "\n",
    "First, start with a clear topic sentence that introduces the main idea.\n",
    "\n",
    "Then, support the topic sentence with specific details, examples, and evidence.\n",
    "\n",
    "Vary the sentence length and structure to keep the reader engaged.\n",
    "\n",
    "Finally, end with a strong concluding sentence that summarizes the main points.\n",
    "\n",
    "Remember, practice makes perfect!\n",
    "\n",
    "\"\"\""
   ]
  },
  {
   "cell_type": "code",
   "execution_count": 19,
   "metadata": {},
   "outputs": [
    {
     "name": "stdout",
     "output_type": "stream",
     "text": [
      "Unique words count: 47\n",
      "{'i': 1, 'have': 1, 'provided': 1, 'this': 1, 'text': 1, 'to': 2, 'provide': 1, 'tips': 1, 'on': 1, 'creating': 1, 'interesting': 1, 'paragraphs': 1, 'first': 1, 'start': 1, 'with': 3, 'a': 2, 'clear': 1, 'topic': 2, 'sentence': 4, 'that': 2, 'introduces': 1, 'the': 5, 'main': 2, 'idea': 1, 'then': 1, 'support': 1, 'specific': 1, 'details': 1, 'examples': 1, 'and': 2, 'evidence': 1, 'vary': 1, 'length': 1, 'structure': 1, 'keep': 1, 'reader': 1, 'engaged': 1, 'finally': 1, 'end': 1, 'strong': 1, 'concluding': 1, 'summarizes': 1, 'points': 1, 'remember': 1, 'practice': 1, 'makes': 1, 'perfect': 1}\n"
     ]
    }
   ],
   "source": [
    "string =\"\"\"\n",
    "\n",
    "I have provided this text to provide tips on creating interesting paragraphs.\n",
    "\n",
    "First, start with a clear topic sentence that introduces the main idea.\n",
    "\n",
    "Then, support the topic sentence with specific details, examples, and evidence.\n",
    "\n",
    "Vary the sentence length and structure to keep the reader engaged.\n",
    "\n",
    "Finally, end with a strong concluding sentence that summarizes the main points.\n",
    "\n",
    "Remember, practice makes perfect!\n",
    "\n",
    "\"\"\"\n",
    "\n",
    "text_lower = string.lower()\n",
    "words = text_lower.split()\n",
    "word_dict = {}\n",
    "for word in words:\n",
    "    word = word.strip(\".,!?;:\\\"'()[]\")\n",
    "    if word in word_dict:\n",
    "        word_dict[word] += 1\n",
    "    else:\n",
    "        word_dict[word] = 1\n",
    "\n",
    "print(\"Unique words count:\", len(word_dict))\n",
    "print(word_dict)\n"
   ]
  },
  {
   "cell_type": "markdown",
   "metadata": {},
   "source": [
    "1. Write a function count_vowels(word) that takes a word as an argument and returns the number of vowels in the word\n"
   ]
  },
  {
   "cell_type": "code",
   "execution_count": 7,
   "metadata": {},
   "outputs": [],
   "source": [
    "\n",
    "def count_vowels(word):\n",
    "    count = 0\n",
    "    for character in word:\n",
    "        if character in {'a','e','i','o','u',\"A\",\"E\",'I','O','U'}:\n",
    "            count += 1\n",
    "    return count\n"
   ]
  },
  {
   "cell_type": "code",
   "execution_count": 8,
   "metadata": {},
   "outputs": [
    {
     "name": "stdout",
     "output_type": "stream",
     "text": [
      "5\n"
     ]
    }
   ],
   "source": [
    "print(count_vowels(\"aeiou\"))"
   ]
  },
  {
   "cell_type": "markdown",
   "metadata": {},
   "source": [
    "2. Iterate through the following list of animals and print each one in all caps.\n",
    "animals=['tiger', 'elephant', 'monkey', 'zebra', 'panther']"
   ]
  },
  {
   "cell_type": "code",
   "execution_count": 9,
   "metadata": {},
   "outputs": [
    {
     "name": "stdout",
     "output_type": "stream",
     "text": [
      "Tiger\n",
      "Elephant\n",
      "Monkey\n",
      "Zebra\n",
      "Panther\n"
     ]
    }
   ],
   "source": [
    "animals=['tiger', 'elephant', 'monkey', 'zebra', 'panther']\n",
    "for animal in animals:\n",
    "    print(animal.capitalize())"
   ]
  },
  {
   "cell_type": "markdown",
   "metadata": {},
   "source": [
    "3. Write a program that iterates from 1 to 20, printing each number and whether it's odd or even."
   ]
  },
  {
   "cell_type": "code",
   "execution_count": 14,
   "metadata": {},
   "outputs": [
    {
     "name": "stdout",
     "output_type": "stream",
     "text": [
      "1 odd\n",
      "2 even\n",
      "3 odd\n",
      "4 even\n",
      "5 odd\n",
      "6 even\n",
      "7 odd\n",
      "8 even\n",
      "9 odd\n",
      "10 even\n",
      "11 odd\n",
      "12 even\n",
      "13 odd\n",
      "14 even\n",
      "15 odd\n",
      "16 even\n",
      "17 odd\n",
      "18 even\n",
      "19 odd\n",
      "20 even\n"
     ]
    }
   ],
   "source": [
    "for i in range(1,21):\n",
    "    if i %2 == 0:\n",
    "        print(str(i) + \" even\")\n",
    "    else:\n",
    "        print(str(i) + \" odd\"  )\n"
   ]
  },
  {
   "cell_type": "markdown",
   "metadata": {},
   "source": [
    "4. Write a function sum_of_integers(a, b) that takes two integers as input from the user and returns their sum.\n"
   ]
  },
  {
   "cell_type": "code",
   "execution_count": 15,
   "metadata": {},
   "outputs": [],
   "source": [
    "def sum_of_integers(a,b):\n",
    "    sum = a+ b\n",
    "    print(sum)"
   ]
  },
  {
   "cell_type": "code",
   "execution_count": 17,
   "metadata": {},
   "outputs": [
    {
     "name": "stdout",
     "output_type": "stream",
     "text": [
      "9\n"
     ]
    }
   ],
   "source": [
    "sum_of_integers(4, 5)\n"
   ]
  },
  {
   "cell_type": "code",
   "execution_count": null,
   "metadata": {},
   "outputs": [],
   "source": []
  }
 ],
 "metadata": {
  "kernelspec": {
   "display_name": ".venv",
   "language": "python",
   "name": "python3"
  },
  "language_info": {
   "codemirror_mode": {
    "name": "ipython",
    "version": 3
   },
   "file_extension": ".py",
   "mimetype": "text/x-python",
   "name": "python",
   "nbconvert_exporter": "python",
   "pygments_lexer": "ipython3",
   "version": "3.12.6"
  }
 },
 "nbformat": 4,
 "nbformat_minor": 2
}
